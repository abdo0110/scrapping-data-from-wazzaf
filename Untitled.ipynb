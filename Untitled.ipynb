{
 "cells": [
  {
   "cell_type": "code",
   "execution_count": null,
   "id": "94d302ac-3deb-4e68-8b77-370af674cf5a",
   "metadata": {},
   "outputs": [],
   "source": [
    "# web scarping \n"
   ]
  },
  {
   "cell_type": "code",
   "execution_count": 1,
   "id": "66a7e8b8-6735-46c0-8e1d-acccc735f20a",
   "metadata": {},
   "outputs": [
    {
     "ename": "ImportError",
     "evalue": "cannot import name 'BeatifulSoap' from 'bs4' (/usr/lib/python3.11/site-packages/bs4/__init__.py)",
     "output_type": "error",
     "traceback": [
      "\u001b[0;31m---------------------------------------------------------------------------\u001b[0m",
      "\u001b[0;31mImportError\u001b[0m                               Traceback (most recent call last)",
      "Cell \u001b[0;32mIn[1], line 1\u001b[0m\n\u001b[0;32m----> 1\u001b[0m \u001b[38;5;28;01mfrom\u001b[39;00m \u001b[38;5;21;01mbs4\u001b[39;00m \u001b[38;5;28;01mimport\u001b[39;00m BeatifulSoap \u001b[38;5;28;01mas\u001b[39;00m bs \n",
      "\u001b[0;31mImportError\u001b[0m: cannot import name 'BeatifulSoap' from 'bs4' (/usr/lib/python3.11/site-packages/bs4/__init__.py)"
     ]
    }
   ],
   "source": [
    "from bs4 import BeatifulSoap as bs "
   ]
  },
  {
   "cell_type": "code",
   "execution_count": null,
   "id": "ffb4529d-225e-472f-86f2-59e5127a79cc",
   "metadata": {},
   "outputs": [],
   "source": []
  }
 ],
 "metadata": {
  "kernelspec": {
   "display_name": "Python 3 (ipykernel)",
   "language": "python",
   "name": "python3"
  },
  "language_info": {
   "codemirror_mode": {
    "name": "ipython",
    "version": 3
   },
   "file_extension": ".py",
   "mimetype": "text/x-python",
   "name": "python",
   "nbconvert_exporter": "python",
   "pygments_lexer": "ipython3",
   "version": "3.11.5"
  }
 },
 "nbformat": 4,
 "nbformat_minor": 5
}
